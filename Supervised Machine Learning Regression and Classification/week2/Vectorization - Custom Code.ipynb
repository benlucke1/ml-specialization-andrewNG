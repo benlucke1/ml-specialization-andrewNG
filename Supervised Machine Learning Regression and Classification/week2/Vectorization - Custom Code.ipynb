{
 "cells": [
  {
   "cell_type": "code",
   "execution_count": 4,
   "id": "92009062",
   "metadata": {},
   "outputs": [],
   "source": [
    "import numpy as np\n",
    "from numpy import array"
   ]
  },
  {
   "cell_type": "code",
   "execution_count": 23,
   "id": "7340a09e",
   "metadata": {},
   "outputs": [
    {
     "data": {
      "text/plain": [
       "-35.0"
      ]
     },
     "metadata": {},
     "output_type": "display_data"
    },
    {
     "data": {
      "text/plain": [
       "-35.0"
      ]
     },
     "metadata": {},
     "output_type": "display_data"
    }
   ],
   "source": [
    "w = array([1,2.5,-3.3])\n",
    "x = array([10,20,30])\n",
    "b = 4\n",
    "\n",
    "# By hand\n",
    "\n",
    "res = (w[0] * x[0] +\n",
    "      w[1] * x[1] +\n",
    "      w[2] * x[2] + \n",
    "        b)\n",
    "\n",
    "# Using arrays\n",
    "res_np = np.dot(w,x) + b\n",
    "\n",
    "# Display results\n",
    "display(res,res_np)"
   ]
  },
  {
   "cell_type": "code",
   "execution_count": null,
   "id": "b78f6576",
   "metadata": {},
   "outputs": [],
   "source": []
  }
 ],
 "metadata": {
  "kernelspec": {
   "display_name": "Python [conda env:mlenv]",
   "language": "python",
   "name": "conda-env-mlenv-py"
  },
  "language_info": {
   "codemirror_mode": {
    "name": "ipython",
    "version": 3
   },
   "file_extension": ".py",
   "mimetype": "text/x-python",
   "name": "python",
   "nbconvert_exporter": "python",
   "pygments_lexer": "ipython3",
   "version": "3.10.4"
  }
 },
 "nbformat": 4,
 "nbformat_minor": 5
}
