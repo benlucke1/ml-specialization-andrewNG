{
 "cells": [
  {
   "cell_type": "code",
   "execution_count": 1,
   "id": "113752ed",
   "metadata": {},
   "outputs": [],
   "source": [
    "import numpy as np"
   ]
  },
  {
   "cell_type": "code",
   "execution_count": 15,
   "id": "a38e266a",
   "metadata": {},
   "outputs": [],
   "source": [
    "A = np.array([[1, -1, 0.1, 2, -2, -.2]]).reshape(2,3)\n",
    "At = A.T\n",
    "# Columns of A are a1, a2, and a3\n",
    "# Rows of At are a1, a2, and a3\n",
    "\n",
    "W = np.array([3,5,7,9,4,6,8,0]).reshape(2,-1)\n",
    "\n",
    "# Columns of W are w1, w2, w3, and w4\n",
    "\n",
    "\n",
    "Z = At @ W \n",
    "\n",
    "# The following are all equivalent:\n",
    "Z_matmul = np.matmul(At,W)\n",
    "Z_matmul2 = np.matmul(A.T,W)\n",
    "Z_address = At @ W\n",
    "Z_address2 = A.T @ W"
   ]
  },
  {
   "cell_type": "code",
   "execution_count": 20,
   "id": "eb9826a4",
   "metadata": {},
   "outputs": [
    {
     "data": {
      "text/plain": [
       "array([[ 1. ,  2. ],\n",
       "       [-1. , -2. ],\n",
       "       [ 0.1, -0.2]])"
      ]
     },
     "metadata": {},
     "output_type": "display_data"
    },
    {
     "data": {
      "text/plain": [
       "array([[3, 5, 7, 9],\n",
       "       [4, 6, 8, 0]])"
      ]
     },
     "metadata": {},
     "output_type": "display_data"
    },
    {
     "name": "stdout",
     "output_type": "stream",
     "text": [
      "\n"
     ]
    },
    {
     "data": {
      "text/plain": [
       "array([[ 11. ,  17. ,  23. ,   9. ],\n",
       "       [-11. , -17. , -23. ,  -9. ],\n",
       "       [ -0.5,  -0.7,  -0.9,   0.9]])"
      ]
     },
     "metadata": {},
     "output_type": "display_data"
    },
    {
     "data": {
      "text/plain": [
       "array([[ 11. ,  17. ,  23. ,   9. ],\n",
       "       [-11. , -17. , -23. ,  -9. ],\n",
       "       [ -0.5,  -0.7,  -0.9,   0.9]])"
      ]
     },
     "metadata": {},
     "output_type": "display_data"
    },
    {
     "data": {
      "text/plain": [
       "array([[ 11. ,  17. ,  23. ,   9. ],\n",
       "       [-11. , -17. , -23. ,  -9. ],\n",
       "       [ -0.5,  -0.7,  -0.9,   0.9]])"
      ]
     },
     "metadata": {},
     "output_type": "display_data"
    },
    {
     "data": {
      "text/plain": [
       "array([[ 11. ,  17. ,  23. ,   9. ],\n",
       "       [-11. , -17. , -23. ,  -9. ],\n",
       "       [ -0.5,  -0.7,  -0.9,   0.9]])"
      ]
     },
     "metadata": {},
     "output_type": "display_data"
    },
    {
     "data": {
      "text/plain": [
       "array([[ 11. ,  17. ,  23. ,   9. ],\n",
       "       [-11. , -17. , -23. ,  -9. ],\n",
       "       [ -0.5,  -0.7,  -0.9,   0.9]])"
      ]
     },
     "metadata": {},
     "output_type": "display_data"
    }
   ],
   "source": [
    "display(At,W)\n",
    "print()\n",
    "display(Z, Z_matmul, Z_matmul2, Z_address, Z_address2)"
   ]
  },
  {
   "cell_type": "code",
   "execution_count": null,
   "id": "1d99cc9c",
   "metadata": {},
   "outputs": [],
   "source": []
  }
 ],
 "metadata": {
  "kernelspec": {
   "display_name": "Python [conda env:mlenv]",
   "language": "python",
   "name": "conda-env-mlenv-py"
  },
  "language_info": {
   "codemirror_mode": {
    "name": "ipython",
    "version": 3
   },
   "file_extension": ".py",
   "mimetype": "text/x-python",
   "name": "python",
   "nbconvert_exporter": "python",
   "pygments_lexer": "ipython3",
   "version": "3.10.4"
  }
 },
 "nbformat": 4,
 "nbformat_minor": 5
}
