{
 "cells": [
  {
   "cell_type": "markdown",
   "id": "6108c62f",
   "metadata": {},
   "source": [
    "This script works through the code shown in <br>\n",
    "> **TensorFlow Implementation**<br>\n",
    "**VIDEO: Building a Neural Network**"
   ]
  },
  {
   "cell_type": "code",
   "execution_count": 3,
   "id": "657371b0",
   "metadata": {},
   "outputs": [],
   "source": [
    "import numpy as np\n",
    "import matplotlib.pyplot as plt\n",
    "import tensorflow as tf\n",
    "from tensorflow.keras.layers import Dense, Input\n",
    "from tensorflow.keras import Sequential\n",
    "from tensorflow.keras.losses import MeanSquaredError, BinaryCrossentropy\n",
    "from tensorflow.keras.activations import sigmoid\n",
    "import logging\n",
    "logging.getLogger(\"tensorflow\").setLevel(logging.ERROR)\n",
    "tf.autograph.set_verbosity(0)"
   ]
  },
  {
   "cell_type": "markdown",
   "id": "cbd800b9",
   "metadata": {},
   "source": [
    "### Explicit Forward Propogation"
   ]
  },
  {
   "cell_type": "code",
   "execution_count": 15,
   "id": "67456f31",
   "metadata": {},
   "outputs": [
    {
     "data": {
      "text/plain": [
       "<tf.Tensor: shape=(1, 3), dtype=float32, numpy=array([[4.252797e-18, 0.000000e+00, 9.186585e-01]], dtype=float32)>"
      ]
     },
     "metadata": {},
     "output_type": "display_data"
    },
    {
     "data": {
      "text/plain": [
       "<tf.Tensor: shape=(1, 1), dtype=float32, numpy=array([[0.5893924]], dtype=float32)>"
      ]
     },
     "metadata": {},
     "output_type": "display_data"
    }
   ],
   "source": [
    "x = np.array([[200., 17.]])\n",
    "layer1 = tf.keras.layers.Dense(units=3,activation='sigmoid')\n",
    "a1 = layer1(x)\n",
    "display(a1)\n",
    "\n",
    "layer2 = tf.keras.layers.Dense(units=1,activation='sigmoid')\n",
    "a2 = layer2(a1)\n",
    "display(a2)"
   ]
  },
  {
   "cell_type": "markdown",
   "id": "7c2089a6",
   "metadata": {},
   "source": [
    "### Building a Neural Network Architecture for Forward Propogation"
   ]
  },
  {
   "cell_type": "code",
   "execution_count": 24,
   "id": "3d2dae88",
   "metadata": {},
   "outputs": [],
   "source": [
    "lay_1 = tf.keras.layers.Dense(units=3,activation='sigmoid')\n",
    "lay_2 = tf.keras.layers.Dense(units=1,activation='sigmoid')\n",
    "model = tf.keras.Sequential([lay_1,lay_2])\n",
    "\n",
    "x = np.array([[200., 17.],\n",
    "              [120., 5.],\n",
    "              [425., 20.],\n",
    "              [212.,18.]])\n",
    "\n",
    "y = np.array([1, 0, 0, 1])"
   ]
  },
  {
   "cell_type": "markdown",
   "id": "c6798e45",
   "metadata": {},
   "source": [
    "Then, you would do<br>\n",
    "`model.compile(...)`\n",
    "\n",
    "And then <br>`model.fit(x,y)` to train the model."
   ]
  },
  {
   "cell_type": "markdown",
   "id": "dc45bf71",
   "metadata": {},
   "source": [
    "To predict with the model, you would do: `model.predict(x_new)`"
   ]
  },
  {
   "cell_type": "markdown",
   "id": "814ce86d",
   "metadata": {},
   "source": [
    "## Conventions \n",
    "Typically, you don't define<br>\n",
    "`layer_1 = Dense(...)`<br>`layer_2 = Dense(...)`<br>`model = Sequential([layer_1,layer_2])`\n",
    "\n"
   ]
  },
  {
   "cell_type": "markdown",
   "id": "42bbd535",
   "metadata": {},
   "source": [
    "Instead, you would do something like:"
   ]
  },
  {
   "cell_type": "code",
   "execution_count": 29,
   "id": "9d8e9b2e",
   "metadata": {},
   "outputs": [],
   "source": [
    "model = tf.keras.Sequential(\n",
    "    [Dense(units=3,activation='sigmoid'),                       \n",
    "     Dense(units=1,activation='sigmoid')])"
   ]
  },
  {
   "cell_type": "markdown",
   "id": "d05ca96d",
   "metadata": {},
   "source": [
    "## Example\n",
    "Digit classification with 3 layers - 25, 15, and 1 unit."
   ]
  },
  {
   "cell_type": "code",
   "execution_count": 34,
   "id": "9d23dab6",
   "metadata": {},
   "outputs": [
    {
     "ename": "SyntaxError",
     "evalue": "invalid syntax (4041952870.py, line 7)",
     "output_type": "error",
     "traceback": [
      "\u001b[1;36m  Input \u001b[1;32mIn [34]\u001b[1;36m\u001b[0m\n\u001b[1;33m    x = np.array([[0..., 245..., 17],\u001b[0m\n\u001b[1;37m                      ^\u001b[0m\n\u001b[1;31mSyntaxError\u001b[0m\u001b[1;31m:\u001b[0m invalid syntax\n"
     ]
    }
   ],
   "source": [
    "digit_class_model = Sequential([\n",
    "    Dense(25, activation='sigmoid'),\n",
    "    Dense(15, activation='sigmoid'),\n",
    "    Dense(1,activation='sigmoid')\n",
    "])\n",
    "\n",
    "x = np.array([[0..., 245..., 17],\n",
    "             [0..., 200..., 184]])\n",
    "y = np.array([1,0])\n",
    "\n",
    "# Then you'd compile it and predict with it\n",
    "\n",
    "\n",
    "# digit_class_model.compile(...)\n",
    "# digit_class_model.fit(x,y)\n",
    "# digit_class_model.predict(x_new)"
   ]
  },
  {
   "cell_type": "code",
   "execution_count": null,
   "id": "4e9681d6",
   "metadata": {},
   "outputs": [],
   "source": []
  }
 ],
 "metadata": {
  "kernelspec": {
   "display_name": "Python [conda env:mlenv]",
   "language": "python",
   "name": "conda-env-mlenv-py"
  },
  "language_info": {
   "codemirror_mode": {
    "name": "ipython",
    "version": 3
   },
   "file_extension": ".py",
   "mimetype": "text/x-python",
   "name": "python",
   "nbconvert_exporter": "python",
   "pygments_lexer": "ipython3",
   "version": "3.10.4"
  }
 },
 "nbformat": 4,
 "nbformat_minor": 5
}
