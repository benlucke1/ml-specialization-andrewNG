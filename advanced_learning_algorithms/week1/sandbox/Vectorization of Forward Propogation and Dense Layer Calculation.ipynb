{
 "cells": [
  {
   "cell_type": "code",
   "execution_count": 60,
   "id": "3ae3727d",
   "metadata": {},
   "outputs": [],
   "source": [
    "import numpy as np"
   ]
  },
  {
   "cell_type": "markdown",
   "id": "c516a741",
   "metadata": {},
   "source": [
    "## Dense Layer Vectorized"
   ]
  },
  {
   "cell_type": "code",
   "execution_count": 86,
   "id": "9e96dd6e",
   "metadata": {},
   "outputs": [],
   "source": [
    "def sigmoid(Z):\n",
    "    ret = 1/(1+ np.exp(-Z))\n",
    "    return ret"
   ]
  },
  {
   "cell_type": "code",
   "execution_count": 68,
   "id": "fb94aafa",
   "metadata": {},
   "outputs": [
    {
     "name": "stdout",
     "output_type": "stream",
     "text": [
      "Matrix A_transpose is of shape (1x2)\n"
     ]
    }
   ],
   "source": [
    "# Input feature values 200 and 17\n",
    "At = np.array([200, 17]) # 200 degrees at 17 minutes\n",
    "At = At.reshape(1,2)\n",
    "m, n = At.shape\n",
    "print(f'Matrix A_transpose is of shape ({m}x{n})')"
   ]
  },
  {
   "cell_type": "markdown",
   "id": "bab0602f",
   "metadata": {},
   "source": [
    "### Define $W$ and $b$\n",
    "\n",
    "Recall:\n",
    "\n",
    "$\\mathbf{W}$ should be of size (# input features, # elements in layer). So the number of input features is 2, and the number of elements (from the network defined in the lab) is 3. Thus, $\\mathbf{W}$ should be $\\left(2\\times3\\right)$. In other words,\n",
    "\n",
    "$\\mathbf{W} = \\begin{bmatrix} w_{11} & w_{12} & w_{13}\n",
    "                            \\\\ w_{21} & w_{22} & w_{23} \\end{bmatrix}$\n",
    "\n",
    "$\\mathbf{B}$ should be the same size as the number of elements in the layer. Since there are three elements in the first layer, the size of b should be $(1\\times3)$, or in other words,\n",
    "\n",
    "$\\mathbf{B} = \\begin{bmatrix} b_1 & b_2 & b_3 \\end{bmatrix}$"
   ]
  },
  {
   "cell_type": "markdown",
   "id": "99da81de",
   "metadata": {},
   "source": [
    "### Calculate Z \n",
    "\n",
    "Know that the equivalent of `np.dot(w,a)` in matrix form is $A^{T}W$ when for $A$ the rows are $\\vec{a_1}$ and $\\vec{a_2}$, etc. and the columns of $\\mathbf{W}$ are the vectors $\\vec{w_1}$, $\\vec{w_2}$, etc.\n",
    "\n",
    "Thus, $Z=A^TW + B$ is equivalent to taking the individual dot products `z = np.dot(w,a) + b` for all weight vectors $w_1 ... w_n$ and inputs $a_1 .. a_n$. "
   ]
  },
  {
   "cell_type": "code",
   "execution_count": 111,
   "id": "38df717e",
   "metadata": {},
   "outputs": [],
   "source": [
    "W = np.array([[1, -3, 5],[-2, 4, -6]]); B = np.array([-1,1,2])"
   ]
  },
  {
   "cell_type": "code",
   "execution_count": 131,
   "id": "36c20275",
   "metadata": {},
   "outputs": [],
   "source": [
    "Z = At @ W + B"
   ]
  },
  {
   "cell_type": "markdown",
   "id": "1ce3adb2",
   "metadata": {},
   "source": [
    "### Calculate Activation"
   ]
  },
  {
   "cell_type": "code",
   "execution_count": 123,
   "id": "afdfa302",
   "metadata": {},
   "outputs": [
    {
     "data": {
      "text/plain": [
       "array([[1.00000000e+000, 2.45261912e-231, 1.00000000e+000]])"
      ]
     },
     "metadata": {},
     "output_type": "display_data"
    },
    {
     "data": {
      "text/plain": [
       "array([[1, 0, 1]])"
      ]
     },
     "metadata": {},
     "output_type": "display_data"
    }
   ],
   "source": [
    "predictions = sigmoid(Z)\n",
    "yhat = (predictions >= 0.5).astype(int)\n",
    "display(predictions, yhat)"
   ]
  },
  {
   "cell_type": "code",
   "execution_count": 126,
   "id": "73c37187",
   "metadata": {},
   "outputs": [],
   "source": [
    "def dense(AT, W, B):\n",
    "    Z = AT @ W + B\n",
    "    af = lambda Z: 1/(1+np.exp(-Z))\n",
    "    A_out = af(Z)\n",
    "    return A_out"
   ]
  },
  {
   "cell_type": "code",
   "execution_count": 130,
   "id": "071125ce",
   "metadata": {},
   "outputs": [
    {
     "data": {
      "text/plain": [
       "array([[1, 0, 1]])"
      ]
     },
     "execution_count": 130,
     "metadata": {},
     "output_type": "execute_result"
    }
   ],
   "source": [
    "# If dense layer is the output layer, then apply the threshold for logistic regression and get a yhat value\n",
    "yhat = (dense(At,W,B) >= 0.5).astype(int)\n",
    "yhat"
   ]
  },
  {
   "cell_type": "code",
   "execution_count": null,
   "id": "86db980f",
   "metadata": {},
   "outputs": [],
   "source": []
  }
 ],
 "metadata": {
  "kernelspec": {
   "display_name": "Python [conda env:mlenv]",
   "language": "python",
   "name": "conda-env-mlenv-py"
  },
  "language_info": {
   "codemirror_mode": {
    "name": "ipython",
    "version": 3
   },
   "file_extension": ".py",
   "mimetype": "text/x-python",
   "name": "python",
   "nbconvert_exporter": "python",
   "pygments_lexer": "ipython3",
   "version": "3.10.4"
  }
 },
 "nbformat": 4,
 "nbformat_minor": 5
}
