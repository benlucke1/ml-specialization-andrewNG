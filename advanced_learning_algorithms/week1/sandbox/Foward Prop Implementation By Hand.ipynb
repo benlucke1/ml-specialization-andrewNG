{
 "cells": [
  {
   "cell_type": "code",
   "execution_count": 54,
   "id": "113752ed",
   "metadata": {},
   "outputs": [],
   "source": [
    "import numpy as np"
   ]
  },
  {
   "cell_type": "code",
   "execution_count": 55,
   "id": "a73b1c17",
   "metadata": {},
   "outputs": [],
   "source": [
    "def sigmoid(z):\n",
    "    res = 1/(1+np.exp(z))\n",
    "    return res "
   ]
  },
  {
   "cell_type": "markdown",
   "id": "9be52839",
   "metadata": {},
   "source": [
    "Let's implement forward propogation of a two layer network with the first layer receiving a vector, $\\vec{x} = \\begin{bmatrix} 200 & 17 \\end{bmatrix}$. We'll choose arbitary values of $b$ and $w$ just to illustrate how this would be done by hand. "
   ]
  },
  {
   "cell_type": "markdown",
   "id": "56957f94",
   "metadata": {},
   "source": [
    "#### Compute *$\\vec{a}_1$*"
   ]
  },
  {
   "cell_type": "code",
   "execution_count": 76,
   "id": "3123848a",
   "metadata": {},
   "outputs": [
    {
     "name": "stderr",
     "output_type": "stream",
     "text": [
      "C:\\Users\\Benjamin Lucke\\AppData\\Local\\Temp\\ipykernel_26972\\1233772300.py:2: RuntimeWarning: overflow encountered in exp\n",
      "  res = 1/(1+np.exp(z))\n"
     ]
    }
   ],
   "source": [
    "x = np.array([200, 17])\n",
    "\n",
    "# ---------- First Layer -------------------------- #\n",
    "\n",
    "# a1_1\n",
    "w1_1 = np.array([1, 2]) # 2 input features\n",
    "b1_1 = np.array([-1]) # Assume b = -1\n",
    "z1_1 = np.dot(w1_1,x) + b1_1 \n",
    "a1_1 = sigmoid(z1_1)\n",
    "\n",
    "# a1_2\n",
    "w1_2 = np.array([-3, 4]) # 2 input features\n",
    "b1_2 = np.array([1]) # Assume b = 1\n",
    "z1_2 = np.dot(w1_2,x) + b1_2 \n",
    "a1_2 = sigmoid(z1_2)\n",
    "\n",
    "\n",
    "# a1_3\n",
    "w1_3 = np.array([5, -6]) # 2 input features\n",
    "b1_3 = np.array([2]) # Assume b = 2\n",
    "z1_3 = np.dot(w1_3,x) + b1_3 # Compute z \n",
    "a1_3 = sigmoid(z1_3) # pass z into activation function\n",
    "\n",
    "# Assemble components into array to be passed into second layer\n",
    "a1 = np.array([a1_1, a1_2, a1_3])"
   ]
  },
  {
   "cell_type": "markdown",
   "id": "2f5c21f2",
   "metadata": {},
   "source": [
    "#### Compute *$\\vec{a}_2$*"
   ]
  },
  {
   "cell_type": "code",
   "execution_count": 80,
   "id": "0e120703",
   "metadata": {},
   "outputs": [],
   "source": [
    "# ---------- Second Layer ----------------------- #\n",
    "\n",
    "# a1_1\n",
    "w2_1 = np.array([-7, 8, 9]) # 3 input features from last layer\n",
    "b2_1 = np.array([-1]) \n",
    "z2_1 = np.dot(w2_1,a1) + b2_1  # NOTE: input is not x, it's the vector a1 since this is the second layer\n",
    "a2_1 = sigmoid(z2_1)"
   ]
  },
  {
   "cell_type": "markdown",
   "id": "6d4705ec",
   "metadata": {},
   "source": [
    "## Output Decision \n",
    "\n",
    "Recall from logstic regression we will state that of $y \\geq 0.5$, the output should be 1, else 0."
   ]
  },
  {
   "cell_type": "code",
   "execution_count": 83,
   "id": "a0f9fdbe",
   "metadata": {},
   "outputs": [],
   "source": [
    "y = (a2_1 >= 0.5).astype(int)"
   ]
  },
  {
   "cell_type": "code",
   "execution_count": 89,
   "id": "349304af",
   "metadata": {},
   "outputs": [
    {
     "name": "stdout",
     "output_type": "stream",
     "text": [
      "a1 = [6.44741635e-102 1.00000000e+000 0.00000000e+000]\n",
      "\n",
      "a2 = [0.00091105]\n",
      "\n",
      "Output = 0\n"
     ]
    }
   ],
   "source": [
    "print(f'a1 = {a1.reshape(-1)}\\n\\na2 = {a2_1}\\n\\nOutput = {y[0]}')"
   ]
  },
  {
   "cell_type": "code",
   "execution_count": null,
   "id": "a38e266a",
   "metadata": {},
   "outputs": [],
   "source": []
  }
 ],
 "metadata": {
  "kernelspec": {
   "display_name": "Python [conda env:mlenv]",
   "language": "python",
   "name": "conda-env-mlenv-py"
  },
  "language_info": {
   "codemirror_mode": {
    "name": "ipython",
    "version": 3
   },
   "file_extension": ".py",
   "mimetype": "text/x-python",
   "name": "python",
   "nbconvert_exporter": "python",
   "pygments_lexer": "ipython3",
   "version": "3.10.4"
  }
 },
 "nbformat": 4,
 "nbformat_minor": 5
}
